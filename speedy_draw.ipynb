{
  "nbformat": 4,
  "nbformat_minor": 0,
  "metadata": {
    "colab": {
      "name": "speedy draw.ipynb",
      "provenance": [],
      "collapsed_sections": [
        "O4rS4mxOCFxC",
        "uOa4XRDwmh77",
        "Bd5Zdd21NL6w"
      ],
      "authorship_tag": "ABX9TyNWDp4Ta4EU/XiKGAZLkTbK",
      "include_colab_link": true
    },
    "kernelspec": {
      "name": "python3",
      "display_name": "Python 3"
    },
    "accelerator": "GPU"
  },
  "cells": [
    {
      "cell_type": "markdown",
      "metadata": {
        "id": "view-in-github",
        "colab_type": "text"
      },
      "source": [
        "<a href=\"https://colab.research.google.com/github/rehanvipin/hello-world/blob/master/speedy_draw.ipynb\" target=\"_parent\"><img src=\"https://colab.research.google.com/assets/colab-badge.svg\" alt=\"Open In Colab\"/></a>"
      ]
    },
    {
      "cell_type": "markdown",
      "metadata": {
        "id": "TrizannAA1JT",
        "colab_type": "text"
      },
      "source": [
        "Quick draw but without considering strokes, because CNNs.\n",
        "---------------------------------------------------------  \n",
        "//Wont work in real time then, can only guess after the final image has been drawn. \n",
        "Go! Go! Go!"
      ]
    },
    {
      "cell_type": "markdown",
      "metadata": {
        "id": "s4C5qhnfBTen",
        "colab_type": "text"
      },
      "source": [
        "# Steps to follow\n",
        "\n",
        "1.   Get the data, understand it\n",
        "2.   Build a data pipelines, GPUs should not starve\n",
        "3.   Build the model, a CNN\n",
        "4.   Train the model\n",
        "5.   Test the model on new data\n",
        "6.   Make changes, repeat\n",
        "\n",
        "## Currently working on:\n",
        "Stage 1 done!  \n",
        "Stage 2 done!  \n",
        "Static human input works!  \n",
        "Live input\n"
      ]
    },
    {
      "cell_type": "markdown",
      "metadata": {
        "id": "O4rS4mxOCFxC",
        "colab_type": "text"
      },
      "source": [
        "## 1. Fetch the data from google cloud, unpack it\n",
        "> List alternative, better sources if you find them  \n",
        "> Also, you can skip this section(1) without affecting the runtime of the later sections.  \n",
        "> It's just there for initial exploration, skip while developing"
      ]
    },
    {
      "cell_type": "code",
      "metadata": {
        "id": "rb_lSDu3CvNk",
        "colab_type": "code",
        "outputId": "1df5fd25-900e-45d1-cf12-da97f374447e",
        "colab": {
          "base_uri": "https://localhost:8080/",
          "height": 92
        }
      },
      "source": [
        "!gsutil -m cp gs://quickdraw_dataset/full/numpy_bitmap/apple.npy .\n",
        "!ls"
      ],
      "execution_count": 0,
      "outputs": [
        {
          "output_type": "stream",
          "text": [
            "Copying gs://quickdraw_dataset/full/numpy_bitmap/apple.npy...\n",
            "\\ [1/1 files][108.2 MiB/108.2 MiB] 100% Done                                    \n",
            "Operation completed over 1 objects/108.2 MiB.                                    \n",
            "apple.npy  full_dataset.npz  sample_data  whatsthis.png\n"
          ],
          "name": "stdout"
        }
      ]
    },
    {
      "cell_type": "code",
      "metadata": {
        "id": "8guQ3TJxEKAC",
        "colab_type": "code",
        "colab": {}
      },
      "source": [
        "import numpy as np\n",
        "import matplotlib.pyplot as plt\n",
        "%matplotlib inline"
      ],
      "execution_count": 0,
      "outputs": []
    },
    {
      "cell_type": "code",
      "metadata": {
        "id": "WLqkDxnVEWh8",
        "colab_type": "code",
        "colab": {}
      },
      "source": [
        "apple_data = np.load('apple.npy')"
      ],
      "execution_count": 0,
      "outputs": []
    },
    {
      "cell_type": "code",
      "metadata": {
        "id": "uySGvTVUEfZf",
        "colab_type": "code",
        "outputId": "43908cca-6875-45b2-f751-1597b734720b",
        "colab": {
          "base_uri": "https://localhost:8080/",
          "height": 36
        }
      },
      "source": [
        "apple_data.shape"
      ],
      "execution_count": 0,
      "outputs": [
        {
          "output_type": "execute_result",
          "data": {
            "text/plain": [
              "(144722, 784)"
            ]
          },
          "metadata": {
            "tags": []
          },
          "execution_count": 14
        }
      ]
    },
    {
      "cell_type": "code",
      "metadata": {
        "id": "xRKLLOZ6G3r_",
        "colab_type": "code",
        "colab": {}
      },
      "source": [
        "def plot_images(arr_images, n):\n",
        "  fig, axes = plt.subplots(1, n, figsize=(20,20))\n",
        "  axes = axes.flatten()\n",
        "  for img, ax in zip(arr_images, axes):\n",
        "    ax.imshow(img, cmap=\"gray\")\n",
        "    ax.axis(\"off\")\n",
        "  plt.tight_layout()\n",
        "  plt.show()"
      ],
      "execution_count": 0,
      "outputs": []
    },
    {
      "cell_type": "code",
      "metadata": {
        "id": "dyDYf6gFIJf2",
        "colab_type": "code",
        "outputId": "b2fa9907-b825-4516-ae6c-c8c319f6665f",
        "colab": {
          "base_uri": "https://localhost:8080/",
          "height": 344
        }
      },
      "source": [
        "sample_apples = apple_data[:4]\n",
        "new_apples = []\n",
        "print(sample_apples.shape)\n",
        "for i in range(4):\n",
        "  sample_apple = sample_apples[i].reshape(28, 28)\n",
        "  new_apples.append(sample_apple)\n",
        "new_apples = np.array(new_apples)\n",
        "print(new_apples.shape)\n",
        "plot_images(new_apples, 4)"
      ],
      "execution_count": 0,
      "outputs": [
        {
          "output_type": "stream",
          "text": [
            "(4, 784)\n",
            "(4, 28, 28)\n"
          ],
          "name": "stdout"
        },
        {
          "output_type": "display_data",
          "data": {
            "image/png": "[encoded data removed]",
            "text/plain": [
              "<Figure size 1440x1440 with 4 Axes>"
            ]
          },
          "metadata": {
            "tags": [],
            "needs_background": "light"
          }
        }
      ]
    },
    {
      "cell_type": "markdown",
      "metadata": {
        "id": "RkwFAd8_MitJ",
        "colab_type": "text"
      },
      "source": [
        "All that fancy stuff above is good for colab, but to make an actual dataset, we're gonna have to compile it on our computers and then upload it online somewhere.\n",
        "\n",
        "## No of classes: ```20```\n",
        "## No of images per class: ```4000```\n",
        "That's my opinion on the dataset I think we should have, feel free to change it.  \n",
        "Use [this](https://quickdraw.withgoogle.com/data) as reference for making your choices.\n",
        "### The classes: (Make them as different as possible)\n",
        "> axe, bat, bird, bridge, ceiling fan, crab, drill, fire hydrant, grapes, hourglass, lightning, motorbike,\n",
        "> paintbrush, scissors, stereo, tent, umbrella, windmill, rainbow\n",
        "\n",
        "Stages:  \n",
        "1. 7 classes, 1000 images each, with a validation split of 0.2\n",
        "2. 20 classes, 4000 images each, tbd\n",
        "\n",
        "Get the .npy files from:\n",
        "[here](https://console.cloud.google.com/storage/browser/quickdraw_dataset/full/simplified)"
      ]
    },
    {
      "cell_type": "markdown",
      "metadata": {
        "id": "ADLRC58xMBTq",
        "colab_type": "text"
      },
      "source": [
        "## 2. Building the data pipeline"
      ]
    },
    {
      "cell_type": "markdown",
      "metadata": {
        "id": "t9mKgsf6mtF6",
        "colab_type": "text"
      },
      "source": [
        "Stage 2 done, looking at actual usage now\n",
        "\n",
        "The reduced dataset in kept in a separate directory, here is the format of the directory\n",
        "```\n",
        ".\n",
        "├── dataset              # original dataset from google\n",
        "├── production_dataset   # smaller, final dataset\n",
        "├── small_dataset        # smaller, initial dataset\n",
        "├── stage2.py            # utility scripts\n",
        "├── step1.py\n",
        "└── step2.py\n",
        "```\n",
        "\n",
        "### Next steps:\n",
        "\n",
        "\n",
        "*   Read images from the disk\n",
        "*   Decode them correctly\n",
        "*   Convert them into tensors and normalize them\n",
        "*   Shuffle the pipleline and batch them\n",
        "\n"
      ]
    },
    {
      "cell_type": "markdown",
      "metadata": {
        "id": "RVc3qvi1RKi6",
        "colab_type": "text"
      },
      "source": [
        "Made the directories with the datasets. Now, the images have to be reshaped into 2D images, bringing back information about their spatial locality so they can be processed by the CNN. "
      ]
    },
    {
      "cell_type": "code",
      "metadata": {
        "id": "0qfwE9-WLsMF",
        "colab_type": "code",
        "outputId": "115b6dfb-df1b-4808-d21d-45095689ce0a",
        "colab": {
          "resources": {
            "http://localhost:8080/nbextensions/google.colab/files.js": {
              "data": "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",
              "ok": true,
              "headers": [
                [
                  "content-type",
                  "application/javascript"
                ]
              ],
              "status": 200,
              "status_text": "OK"
            }
          },
          "base_uri": "https://localhost:8080/",
          "height": 93
        }
      },
      "source": [
        "# Use this if you can't drag and drop\n",
        "from google.colab import files\n",
        "uploaded = files.upload()\n",
        "# Upload the dataset npz file when prompted\n",
        "for name, data in uploaded.items():\n",
        "  with open(name, 'wb') as wire:\n",
        "    wire.write(data)\n",
        "!ls"
      ],
      "execution_count": 0,
      "outputs": [
        {
          "output_type": "display_data",
          "data": {
            "text/html": [
              "\n",
              "     <input type=\"file\" id=\"files-56dd6ff2-4b05-4844-8140-c7f491cda93c\" name=\"files[]\" multiple disabled />\n",
              "     <output id=\"result-56dd6ff2-4b05-4844-8140-c7f491cda93c\">\n",
              "      Upload widget is only available when the cell has been executed in the\n",
              "      current browser session. Please rerun this cell to enable.\n",
              "      </output>\n",
              "      <script src=\"/nbextensions/google.colab/files.js\"></script> "
            ],
            "text/plain": [
              "<IPython.core.display.HTML object>"
            ]
          },
          "metadata": {
            "tags": []
          }
        },
        {
          "output_type": "stream",
          "text": [
            "Saving full_dataset.npz to full_dataset.npz\n",
            "full_dataset.npz  sample_data\n"
          ],
          "name": "stdout"
        }
      ]
    },
    {
      "cell_type": "code",
      "metadata": {
        "id": "XZFa56J1NnvT",
        "colab_type": "code",
        "colab": {}
      },
      "source": [
        "# stage 1 stuff, don't execute this if you want to test stage2\n",
        "\n",
        "og_dataset = np.load(\"full_dataset.npz\")\n",
        "features = og_dataset[\"features\"]\n",
        "labels = og_dataset[\"labels\"]\n",
        "mapping = {0: 'axe', 1: 'bat', 2: 'bear', 3: 'bird', 4: 'bridge', 5: 'ceiling_fan', 6: 'crab'}\n",
        "NO_OF_CLASSES = len(mapping)\n",
        "features = features.reshape((features.shape[0], 28, 28, 1))\n",
        "features = features/255\n",
        "features.shape"
      ],
      "execution_count": 0,
      "outputs": []
    },
    {
      "cell_type": "code",
      "metadata": {
        "id": "ZqciNjZhxTr4",
        "colab_type": "code",
        "colab": {}
      },
      "source": [
        "# Stage 2 stuff, execute this, pretty please?\n",
        "import numpy as np\n",
        "mapping = {0: 'axe', 1: 'bat', 2: 'bear', 3: 'bird', 4: 'bridge', 5: 'ceiling_fan', 6: 'crab', 7: 'drill', 8: 'fire hydrant', 9: 'grapes', 10: 'hourglass', 11: 'lightning', 12: 'motorbike', 13: 'paintbrush', 14: 'rainbow', 15: 'scissors', 16: 'stereo', 17: 'tent', 18: 'umbrella', 19: 'windmill'}\n",
        "NO_OF_CLASSES = len(mapping)\n",
        "og_dataset = np.load(\"full_dataset.npz\")\n",
        "features = og_dataset[\"features\"]\n",
        "labels = og_dataset[\"labels\"]\n",
        "features = features.reshape((features.shape[0], 28, 28, 1))\n",
        "features = features/255\n",
        "features.shape"
      ],
      "execution_count": 0,
      "outputs": []
    },
    {
      "cell_type": "code",
      "metadata": {
        "id": "CGXtyfwRr19V",
        "colab_type": "code",
        "colab": {}
      },
      "source": [
        "from tensorflow.keras.utils import to_categorical\n",
        "labels = to_categorical(labels)  # one hot encoding !!! 🔥"
      ],
      "execution_count": 0,
      "outputs": []
    },
    {
      "cell_type": "markdown",
      "metadata": {
        "id": "-1P0m0-DSAoP",
        "colab_type": "text"
      },
      "source": [
        "The data and the labels are ready, convert them into tensors to build a data pipeline.  \n",
        "Maybe it's time to add more data and classes?"
      ]
    },
    {
      "cell_type": "code",
      "metadata": {
        "id": "5yqrVoYvQHD6",
        "colab_type": "code",
        "colab": {}
      },
      "source": [
        "import tensorflow as tf\n",
        "from tensorflow.keras.models import Sequential\n",
        "from tensorflow.keras.layers import Conv2D, MaxPooling2D, Dense, Dropout, Flatten\n",
        "from tensorflow.keras.optimizers import SGD    # Never used, kept as a tribute"
      ],
      "execution_count": 0,
      "outputs": []
    },
    {
      "cell_type": "code",
      "metadata": {
        "id": "kXbDuwwWcEKT",
        "colab_type": "code",
        "colab": {}
      },
      "source": [
        "dataset = tf.data.Dataset.from_tensor_slices((features, labels))\n",
        "# Shuffle the dataset for uniformity and learning, and split them into batches to train faster\n",
        "BATCH_SIZE = 64\n",
        "BUFFER_SIZE = features.shape[0] # That's because there is zero shuffling initially\n",
        "dataset = dataset.shuffle(BUFFER_SIZE)\n",
        "dataset = dataset.batch(BATCH_SIZE)"
      ],
      "execution_count": 0,
      "outputs": []
    },
    {
      "cell_type": "code",
      "metadata": {
        "id": "Dh_gKlsdUGik",
        "colab_type": "code",
        "colab": {}
      },
      "source": [
        "import matplotlib.pyplot as plt\n",
        "%matplotlib inline\n",
        "\n",
        "# One look at the dataset before we make the model\n",
        "road = dataset.as_numpy_iterator()\n",
        "x = next(road)\n",
        "f, l = x\n",
        "print(f.shape)\n",
        "l = np.argmax(l)\n",
        "plt.imshow(f[0].reshape(28,28))\n",
        "print(mapping[l])\n",
        "# print(f)"
      ],
      "execution_count": 0,
      "outputs": []
    },
    {
      "cell_type": "markdown",
      "metadata": {
        "id": "8R0HeqDsa4x8",
        "colab_type": "text"
      },
      "source": [
        "## There, the data pipeline is ready to be fed to the model.\n",
        "Let's design the model.  \n",
        "T̶w̶o̶ ̶l̶a̶y̶e̶r̶s̶ ̶o̶f̶ ̶c̶o̶n̶v̶o̶l̶u̶t̶i̶o̶n̶ ̶a̶n̶d̶ ̶p̶o̶o̶l̶i̶n̶g̶,̶ ̶f̶o̶l̶l̶o̶w̶e̶d̶ ̶b̶y̶ ̶t̶w̶o̶ ̶d̶e̶n̶s̶e̶ ̶l̶a̶y̶e̶r̶s̶.̶ ̶A̶t̶ ̶t̶h̶e̶ ̶o̶u̶p̶u̶t̶ ̶l̶a̶y̶e̶r̶ ̶w̶e̶ ̶k̶e̶e̶p̶ ̶7̶ ̶n̶e̶u̶r̶o̶n̶s̶,̶ ̶r̶e̶p̶r̶e̶s̶e̶n̶t̶i̶n̶g̶ ̶t̶h̶e̶ ̶p̶r̶o̶b̶a̶b̶i̶l̶i̶t̶y̶ ̶f̶o̶r̶ ̶e̶a̶c̶h̶ ̶o̶f̶ ̶t̶h̶e̶ ̶s̶e̶v̶e̶n̶ ̶c̶l̶a̶s̶s̶e̶s̶.̶   \n",
        "We aren't classifying classical paintings, we don't that here.  \n",
        "**One** layer of convolution and pooling, followed by one hidden dense layer and one output dense layer.\n"
      ]
    },
    {
      "cell_type": "markdown",
      "metadata": {
        "id": "tU3xNdS7maB-",
        "colab_type": "text"
      },
      "source": [
        "## 3. Building the model"
      ]
    },
    {
      "cell_type": "code",
      "metadata": {
        "id": "3LGIJdC6d0Nt",
        "colab_type": "code",
        "colab": {}
      },
      "source": [
        "# The model we've been waiting for, let the dark magic commence\n",
        "model = Sequential([\n",
        "                    Conv2D(16, 3, input_shape=(28,28,1)),\n",
        "                    MaxPooling2D(),\n",
        "                    Flatten(),\n",
        "                    Dense(512, activation=\"relu\"),\n",
        "                    Dense(20, activation=\"softmax\")\n",
        "])\n",
        "model.build()\n",
        "model.summary()"
      ],
      "execution_count": 0,
      "outputs": []
    },
    {
      "cell_type": "code",
      "metadata": {
        "id": "CtJTnK9S-QWK",
        "colab_type": "code",
        "colab": {}
      },
      "source": [
        "# Let's visualize!\n",
        "tf.keras.utils.plot_model(model, to_file=\"kendall_jenner.png\",\n",
        "                          show_shapes=True)"
      ],
      "execution_count": 0,
      "outputs": []
    },
    {
      "cell_type": "code",
      "metadata": {
        "id": "aVvU7wZNjkLG",
        "colab_type": "code",
        "colab": {}
      },
      "source": [
        "opt = SGD(learning_rate = 1e-2)\n",
        "model.compile(optimizer=\"adam\", loss=tf.keras.losses.CategoricalCrossentropy(), metrics=['accuracy'])"
      ],
      "execution_count": 0,
      "outputs": []
    },
    {
      "cell_type": "markdown",
      "metadata": {
        "id": "uOa4XRDwmh77",
        "colab_type": "text"
      },
      "source": [
        "## 4. Training the model"
      ]
    },
    {
      "cell_type": "markdown",
      "metadata": {
        "id": "Kr7h35hAUW0G",
        "colab_type": "text"
      },
      "source": [
        "But wait, we don't want to train on just everything, let's keep some data aside for testing, so that we can see how much we have generalized and if we need dropouts."
      ]
    },
    {
      "cell_type": "code",
      "metadata": {
        "id": "-JhP7pmLUp-Z",
        "colab_type": "code",
        "outputId": "483f0ac7-4947-44c0-b1ea-bfba511aebad",
        "colab": {
          "base_uri": "https://localhost:8080/",
          "height": 36
        }
      },
      "source": [
        "no_of_batches = len(list(dataset))\n",
        "print(no_of_batches)\n",
        "test_split = int(0.2 * no_of_batches)\n",
        "test_dataset = dataset.take(test_split)\n",
        "train_dataset = dataset.skip(test_split)"
      ],
      "execution_count": 0,
      "outputs": [
        {
          "output_type": "stream",
          "text": [
            "1250\n"
          ],
          "name": "stdout"
        }
      ]
    },
    {
      "cell_type": "code",
      "metadata": {
        "id": "HcR9QvwikWKE",
        "colab_type": "code",
        "outputId": "f762dc38-9d80-4759-8adf-49d26131c56d",
        "colab": {
          "base_uri": "https://localhost:8080/",
          "height": 316
        }
      },
      "source": [
        "history = model.fit(train_dataset, validation_data = test_dataset, epochs=8)"
      ],
      "execution_count": 0,
      "outputs": [
        {
          "output_type": "stream",
          "text": [
            "Epoch 1/8\n",
            "1000/1000 [==============================] - 8s 8ms/step - loss: 0.0780 - accuracy: 0.9780 - val_loss: 0.0582 - val_accuracy: 0.9837\n",
            "Epoch 2/8\n",
            "1000/1000 [==============================] - 8s 8ms/step - loss: 0.0600 - accuracy: 0.9830 - val_loss: 0.0408 - val_accuracy: 0.9889\n",
            "Epoch 3/8\n",
            "1000/1000 [==============================] - 7s 7ms/step - loss: 0.0546 - accuracy: 0.9831 - val_loss: 0.0430 - val_accuracy: 0.9883\n",
            "Epoch 4/8\n",
            "1000/1000 [==============================] - 7s 7ms/step - loss: 0.0500 - accuracy: 0.9844 - val_loss: 0.0339 - val_accuracy: 0.9902\n",
            "Epoch 5/8\n",
            "1000/1000 [==============================] - 7s 7ms/step - loss: 0.0419 - accuracy: 0.9874 - val_loss: 0.0334 - val_accuracy: 0.9892\n",
            "Epoch 6/8\n",
            "1000/1000 [==============================] - 7s 7ms/step - loss: 0.0383 - accuracy: 0.9881 - val_loss: 0.0390 - val_accuracy: 0.9878\n",
            "Epoch 7/8\n",
            "1000/1000 [==============================] - 8s 8ms/step - loss: 0.0398 - accuracy: 0.9873 - val_loss: 0.0313 - val_accuracy: 0.9903\n",
            "Epoch 8/8\n",
            "1000/1000 [==============================] - 8s 8ms/step - loss: 0.0340 - accuracy: 0.9892 - val_loss: 0.0224 - val_accuracy: 0.9932\n"
          ],
          "name": "stdout"
        }
      ]
    },
    {
      "cell_type": "markdown",
      "metadata": {
        "id": "fwruHWt3IZYP",
        "colab_type": "text"
      },
      "source": [
        "## Here's a lesson in trickery!  \n",
        "Load the model with the weights here, skip all the steps before this.  \n",
        "Parkour!"
      ]
    },
    {
      "cell_type": "code",
      "metadata": {
        "id": "lrkLuSMHIrwl",
        "colab_type": "code",
        "outputId": "3d59195c-c4b4-4fa3-916c-0fa443619be6",
        "colab": {
          "base_uri": "https://localhost:8080/",
          "height": 354
        }
      },
      "source": [
        "model = tf.keras.models.load_model(\"the_maze.h5\")\n",
        "model.summary()"
      ],
      "execution_count": 0,
      "outputs": [
        {
          "output_type": "stream",
          "text": [
            "Model: \"sequential\"\n",
            "_________________________________________________________________\n",
            "Layer (type)                 Output Shape              Param #   \n",
            "=================================================================\n",
            "conv2d (Conv2D)              (None, 26, 26, 16)        160       \n",
            "_________________________________________________________________\n",
            "max_pooling2d (MaxPooling2D) (None, 13, 13, 16)        0         \n",
            "_________________________________________________________________\n",
            "flatten (Flatten)            (None, 2704)              0         \n",
            "_________________________________________________________________\n",
            "dense (Dense)                (None, 512)               1384960   \n",
            "_________________________________________________________________\n",
            "dense_1 (Dense)              (None, 20)                10260     \n",
            "=================================================================\n",
            "Total params: 1,395,380\n",
            "Trainable params: 1,395,380\n",
            "Non-trainable params: 0\n",
            "_________________________________________________________________\n"
          ],
          "name": "stdout"
        }
      ]
    },
    {
      "cell_type": "markdown",
      "metadata": {
        "id": "MLbMyURqpqL3",
        "colab_type": "text"
      },
      "source": [
        "## 5. Testing the model"
      ]
    },
    {
      "cell_type": "code",
      "metadata": {
        "id": "4GfpJLfxpk1x",
        "colab_type": "code",
        "outputId": "36c0dac9-9422-4db9-f754-784873b6c26f",
        "colab": {
          "base_uri": "https://localhost:8080/",
          "height": 262
        }
      },
      "source": [
        "from random import randint\n",
        "preds = [randint(0, 80000) for _ in range(4)]\n",
        "pred_input = np.array([features[inx] for inx in preds])\n",
        "pred_output = model.predict(pred_input)\n",
        "plt.figure(figsize=(4,4))\n",
        "for i in range(4):\n",
        "  plt.subplot(2, 2, i+1)\n",
        "  plt.xticks([])\n",
        "  plt.yticks([])\n",
        "  plt.grid(False)\n",
        "  plt.imshow(features[preds[i]].reshape(28, 28))\n",
        "  plt.xlabel(mapping[np.argmax(pred_output[i])])\n",
        "plt.show()"
      ],
      "execution_count": 0,
      "outputs": [
        {
          "output_type": "display_data",
          "data": {
            "image/png": "[encoded data removed]",
            "text/plain": [
              "<Figure size 288x288 with 4 Axes>"
            ]
          },
          "metadata": {
            "tags": []
          }
        }
      ]
    },
    {
      "cell_type": "markdown",
      "metadata": {
        "id": "5soyVWspU8Xb",
        "colab_type": "text"
      },
      "source": [
        "Yay! That's very nice, but how well do we perform on data that has not been seen yet? Let keras tell us how good we are."
      ]
    },
    {
      "cell_type": "code",
      "metadata": {
        "id": "KYe9_HYZjIww",
        "colab_type": "code",
        "outputId": "495f670a-31ba-40fe-b821-4e22dc9a3101",
        "colab": {
          "base_uri": "https://localhost:8080/",
          "height": 54
        }
      },
      "source": [
        "final_loss, final_accuracy = model.evaluate(test_dataset)\n",
        "print(f\"This model has an accuracy: {round(final_accuracy, 3)} with a loss {round(final_loss, 2)}\")"
      ],
      "execution_count": 0,
      "outputs": [
        {
          "output_type": "stream",
          "text": [
            "250/250 [==============================] - 1s 4ms/step - loss: 0.0231 - accuracy: 0.9927\n",
            "This model has an accuracy: 0.993 with a loss 0.02\n"
          ],
          "name": "stdout"
        }
      ]
    },
    {
      "cell_type": "markdown",
      "metadata": {
        "id": "t1mpHGx4FZ5P",
        "colab_type": "text"
      },
      "source": [
        "How much trouble did the poor thing go through before it reached this far? Let's plot because why not?"
      ]
    },
    {
      "cell_type": "code",
      "metadata": {
        "id": "WgOwDEddFk8_",
        "colab_type": "code",
        "outputId": "cc3266eb-8e0f-469b-e2e0-9cdb6a0d22f3",
        "colab": {
          "base_uri": "https://localhost:8080/",
          "height": 295
        }
      },
      "source": [
        "plt.plot(history.history['accuracy'])\n",
        "plt.plot(history.history['val_accuracy'])\n",
        "plt.title(\"Model learning history\")\n",
        "plt.xlabel(\"epoch\")\n",
        "plt.ylabel(\"accuracy\")\n",
        "plt.legend([\"accuracy\", \"validation accuracy\"], loc=\"upper left\")\n",
        "plt.show()"
      ],
      "execution_count": 0,
      "outputs": [
        {
          "output_type": "display_data",
          "data": {
            "image/png": "[encoded data removed]",
            "text/plain": [
              "<Figure size 432x288 with 1 Axes>"
            ]
          },
          "metadata": {
            "tags": [],
            "needs_background": "light"
          }
        }
      ]
    },
    {
      "cell_type": "markdown",
      "metadata": {
        "id": "e2A3C1f66_nE",
        "colab_type": "text"
      },
      "source": [
        "This has been a lot of work, let the model rest the next time, save the weights for future use."
      ]
    },
    {
      "cell_type": "code",
      "metadata": {
        "id": "6qwxbF3s86Mw",
        "colab_type": "code",
        "colab": {}
      },
      "source": [
        "model.save(\"the_maze.h5\")"
      ],
      "execution_count": 0,
      "outputs": []
    },
    {
      "cell_type": "markdown",
      "metadata": {
        "id": "iqHzWsmZxtaa",
        "colab_type": "text"
      },
      "source": [
        "##     Fix bugs, repeat"
      ]
    },
    {
      "cell_type": "markdown",
      "metadata": {
        "id": "Bd5Zdd21NL6w",
        "colab_type": "text"
      },
      "source": [
        "## 6. Production code"
      ]
    },
    {
      "cell_type": "markdown",
      "metadata": {
        "id": "xicMQ_FbNQOI",
        "colab_type": "text"
      },
      "source": [
        "Only working code and functions here, draw stuff and let the model guess what it is.   \n",
        "Input must be in the same format as the training data"
      ]
    },
    {
      "cell_type": "markdown",
      "metadata": {
        "id": "5cLPgd2Zh1rE",
        "colab_type": "text"
      },
      "source": [
        "Get images from disk (or another source later) and resize them to 28 x 28 for the functions after this"
      ]
    },
    {
      "cell_type": "code",
      "metadata": {
        "id": "CngZMLb4icNT",
        "colab_type": "code",
        "colab": {}
      },
      "source": [
        "from PIL import Image, ImageOps\n",
        "import matplotlib.pyplot as plt\n",
        "%matplotlib inline\n",
        "import numpy as np\n",
        "\n",
        "def resize_28(image_name):\n",
        "  \"\"\"\n",
        "  return an image of size 28 x 28 from the file name\n",
        "  \"\"\"\n",
        "  image = Image.open(image_name)\n",
        "  image = image.convert(\"L\")\n",
        "  image = ImageOps.invert(image)\n",
        "  image = image.resize((28, 28))\n",
        "  image = np.asarray(image)\n",
        "  return image"
      ],
      "execution_count": 0,
      "outputs": []
    },
    {
      "cell_type": "markdown",
      "metadata": {
        "id": "LiFgUK-_5DbX",
        "colab_type": "text"
      },
      "source": [
        "resize_28 gets the image from the disk and nicely formats it into the exact format the model accepts, thank you."
      ]
    },
    {
      "cell_type": "code",
      "metadata": {
        "id": "figP42t82qOn",
        "colab_type": "code",
        "colab": {}
      },
      "source": [
        "mapping = {0: 'axe', 1: 'bat', 2: 'bear', 3: 'bird', 4: 'bridge', 5: 'ceiling_fan', 6: 'crab', 7: 'drill', 8: 'fire hydrant', 9: 'grapes', 10: 'hourglass', 11: 'lightning', 12: 'motorbike', 13: 'paintbrush', 14: 'rainbow', 15: 'scissors', 16: 'stereo', 17: 'tent', 18: 'umbrella', 19: 'windmill'}\n",
        "def predict_label(image_name):\n",
        "  bluecat = resize_28(image_name)/255\n",
        "  plt.figure()\n",
        "  plt.imshow(bluecat)\n",
        "  plt.grid(False)\n",
        "  bluecat = bluecat.reshape((28, 28, 1))\n",
        "  sees = model.predict(np.array([bluecat]))\n",
        "  best = np.argmax(sees)\n",
        "  plt.xlabel(mapping[best])\n",
        "  plt.show()"
      ],
      "execution_count": 0,
      "outputs": []
    },
    {
      "cell_type": "markdown",
      "metadata": {
        "id": "9fd7kaTG5tSJ",
        "colab_type": "text"
      },
      "source": [
        "A wrapper function that takes a filename, gets the file from the disk and makes predictions from the model, but plots the image and prediction instead, needs the mapping dictionary for that."
      ]
    },
    {
      "cell_type": "code",
      "metadata": {
        "id": "pxNrA3UGiMcN",
        "colab_type": "code",
        "outputId": "db000661-acd8-453d-98ee-3a7c8a8764e5",
        "colab": {
          "base_uri": "https://localhost:8080/",
          "height": 279
        }
      },
      "source": [
        "predict_label(\"whatsthis.png\")"
      ],
      "execution_count": 0,
      "outputs": [
        {
          "output_type": "display_data",
          "data": {
            "image/png": "[encoded data removed]",
            "text/plain": [
              "<Figure size 432x288 with 1 Axes>"
            ]
          },
          "metadata": {
            "tags": [],
            "needs_background": "light"
          }
        }
      ]
    },
    {
      "cell_type": "markdown",
      "metadata": {
        "id": "Ndx_pi0n4pKp",
        "colab_type": "text"
      },
      "source": [
        "FIN.\n",
        "\n"
      ]
    }
  ]
}